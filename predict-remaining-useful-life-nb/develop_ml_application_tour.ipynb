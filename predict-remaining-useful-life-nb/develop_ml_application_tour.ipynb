{
 "cells": [
  {
   "cell_type": "markdown",
   "id": "687334b0",
   "metadata": {},
   "source": [
    "# 基于机器学习数据库飞速上线AI应用——RUL\n",
    "\n",
    "剩余使用寿命（remaining useful life，RUL），指一个系统正常工作一段时间后,能够正常运转的时间。借助RUL,工程师可以安排维护时间、优化运行效率并避免计划外停机。因此,预测RUL是预测性维护计划中的首要任务。 \n",
    "本次的任务就是开发一个通过机器学习模型进行剩余使用寿命预测的实时智能应用。我们使用NASA提供的[Turbofan Engine Degradation Simulation Data Set](https://ti.arc.nasa.gov/tech/dash/groups/pcoe/prognostic-data-repository/#turbofan)，作为训练集与测试集。\n",
    "\n",
    "整个应用开发是基于[notebook](http://ipython.org/notebook.html)。\n"
   ]
  },
  {
   "cell_type": "markdown",
   "id": "3e7559e1",
   "metadata": {},
   "source": [
    "## 初始化环境\n",
    "整个初始化过程包含安装fedb，以及相关运行环境，初始化脚步可以参考https://github.com/4paradigm/DemoApps/blob/main/predict-remaining-useful-life-nb/demo/init.sh"
   ]
  },
  {
   "cell_type": "code",
   "execution_count": 1,
   "id": "4be401ff",
   "metadata": {},
   "outputs": [
    {
     "name": "stdout",
     "output_type": "stream",
     "text": [
      "ZooKeeper JMX enabled by default\n",
      "Using config: /home/jovyan/work/zookeeper-3.4.14/bin/../conf/zoo.cfg\n",
      "Starting zookeeper ... already running as process 729.\n",
      "Starting tablet ... tablet already running as process 798.\n",
      "Starting nameserver ... nameserver already running as process 851.\n",
      "2021-06-16 11:35:22,068:2006(0x7f2ca10d2a00):ZOO_INFO@log_env@753: Client environment:zookeeper.version=zookeeper C client 3.4.14\n",
      "2021-06-16 11:35:22,068:2006(0x7f2ca10d2a00):ZOO_INFO@log_env@757: Client environment:host.name=m7-pce-dev01\n",
      "2021-06-16 11:35:22,068:2006(0x7f2ca10d2a00):ZOO_INFO@log_env@764: Client environment:os.name=Linux\n",
      "2021-06-16 11:35:22,068:2006(0x7f2ca10d2a00):ZOO_INFO@log_env@765: Client environment:os.arch=3.10.0-1127.18.2.el7.x86_64\n",
      "2021-06-16 11:35:22,068:2006(0x7f2ca10d2a00):ZOO_INFO@log_env@766: Client environment:os.version=#1 SMP Sun Jul 26 15:27:06 UTC 2020\n",
      "2021-06-16 11:35:22,068:2006(0x7f2ca10d2a00):ZOO_INFO@log_env@774: Client environment:user.name=(null)\n",
      "2021-06-16 11:35:22,068:2006(0x7f2ca10d2a00):ZOO_INFO@log_env@782: Client environment:user.home=/root\n",
      "2021-06-16 11:35:22,068:2006(0x7f2ca10d2a00):ZOO_INFO@log_env@794: Client environment:user.dir=/home/jovyan/work/fedb-2.2.0\n",
      "2021-06-16 11:35:22,068:2006(0x7f2ca10d2a00):ZOO_INFO@zookeeper_init@827: Initiating client connection, host=127.0.0.1:2181 sessionTimeout=2000 watcher=0x7112e0 sessionId=0 sessionPasswd=<null> context=0x532a000 flags=0\n",
      "2021-06-16 11:35:22,069:2006(0x7f2ca0072700):ZOO_INFO@check_events@1764: initiated connection to server [127.0.0.1:2181]\n",
      "2021-06-16 11:35:22,089:2006(0x7f2ca0072700):ZOO_INFO@check_events@1811: session establishment complete on server [127.0.0.1:2181], sessionId=0x1015fd6745a005a, negotiated timeout=4000\n",
      "WARNING: Logging before InitGoogleLogging() is written to STDERR\n",
      "I0616 11:35:22.089709  2010 zk_client.cc:586] zookeeper event with type -1, state 3, path \n",
      "I0616 11:35:22.089920  2010 zk_client.cc:601] connect success\n",
      "I0616 11:35:22.089989  2006 cluster_sdk.cc:84] init zk client with zk cluster 127.0.0.1:2181 , zk path /fedb,session timeout 2000 and session id 1\n",
      "I0616 11:35:22.099030  2006 client_manager.cc:473] add client. name 127.0.0.1:9527, endpoint \n",
      "I0616 11:35:22.099653  2006 cluster_sdk.cc:102] start to watch table notify\n",
      "I0616 11:35:22.101415  2006 cluster_sdk.cc:134] init ns client with endpoint 127.0.0.1:6527 done\n",
      " ----------- \n",
      "  Databases  \n",
      " ----------- \n",
      "  db_test    \n",
      " ----------- \n",
      "1 row in set\n"
     ]
    }
   ],
   "source": [
    "!cd demo && sh init.sh"
   ]
  },
  {
   "cell_type": "markdown",
   "id": "9f31d07f",
   "metadata": {},
   "source": [
    "## 导入行程历史数据到fedb\n",
    "\n",
    "使用fedb进行时序特征计算是需要历史数据的，所以我们将历史数据导入到fedb，以便实时推理可以使用历史数据进行特征推理，导入代码可以参考https://github.com/4paradigm/DemoApps/blob/main/predict-taxi-trip-duration-nb/demo/import.py\n",
    "这里使用data/test_FD004.txt作为历史数据。"
   ]
  },
  {
   "cell_type": "code",
   "execution_count": 3,
   "id": "7a21f6c7",
   "metadata": {},
   "outputs": [
    {
     "name": "stdout",
     "output_type": "stream",
     "text": [
      "2021-06-16 11:35:39,101:2075(0x7f7033716740):ZOO_INFO@log_env@753: Client environment:zookeeper.version=zookeeper C client 3.4.14\n",
      "2021-06-16 11:35:39,101:2075(0x7f7033716740):ZOO_INFO@log_env@757: Client environment:host.name=m7-pce-dev01\n",
      "2021-06-16 11:35:39,101:2075(0x7f7033716740):ZOO_INFO@log_env@764: Client environment:os.name=Linux\n",
      "2021-06-16 11:35:39,101:2075(0x7f7033716740):ZOO_INFO@log_env@765: Client environment:os.arch=3.10.0-1127.18.2.el7.x86_64\n",
      "2021-06-16 11:35:39,101:2075(0x7f7033716740):ZOO_INFO@log_env@766: Client environment:os.version=#1 SMP Sun Jul 26 15:27:06 UTC 2020\n",
      "2021-06-16 11:35:39,101:2075(0x7f7033716740):ZOO_INFO@log_env@774: Client environment:user.name=(null)\n",
      "2021-06-16 11:35:39,101:2075(0x7f7033716740):ZOO_INFO@log_env@782: Client environment:user.home=/root\n",
      "2021-06-16 11:35:39,101:2075(0x7f7033716740):ZOO_INFO@log_env@794: Client environment:user.dir=/home/jovyan/work/rul/demo\n",
      "2021-06-16 11:35:39,101:2075(0x7f7033716740):ZOO_INFO@zookeeper_init@827: Initiating client connection, host=127.0.0.1:2181 sessionTimeout=2000 watcher=0x7f702e5c1070 sessionId=0 sessionPasswd=<null> context=0x7f702c757010 flags=0\n",
      "2021-06-16 11:35:39,102:2075(0x7f7027fff700):ZOO_INFO@check_events@1764: initiated connection to server [127.0.0.1:2181]\n",
      "2021-06-16 11:35:39,122:2075(0x7f7027fff700):ZOO_INFO@check_events@1811: session establishment complete on server [127.0.0.1:2181], sessionId=0x1015fd6745a005c, negotiated timeout=4000\n",
      "WARNING: Logging before InitGoogleLogging() is written to STDERR\n",
      "I0616 11:35:39.123045  2079 zk_client.cc:586] zookeeper event with type -1, state 3, path \n",
      "I0616 11:35:39.123234  2079 zk_client.cc:601] connect success\n",
      "I0616 11:35:39.123296  2075 cluster_sdk.cc:84] init zk client with zk cluster 127.0.0.1:2181 , zk path /fedb,session timeout 2000 and session id 1\n",
      "I0616 11:35:39.130364  2075 client_manager.cc:473] add client. name 127.0.0.1:9527, endpoint \n",
      "I0616 11:35:39.130420  2075 cluster_sdk.cc:102] start to watch table notify\n",
      "W0616 11:35:39.131594  2075 parser.cc:39] line: 1, column: 37: syntax error, unexpected VARCHAR\n",
      "W0616 11:35:39.131630  2075 sql_compiler.cc:319] fail to parse sql SELECT CAST('test plain returns' AS VARCHAR(60)) AS anon_1 with error line: 1, column: 37: syntax error, unexpected VARCHAR\n",
      "W0616 11:35:39.131650  2075 engine.cc:274] fail to compile sql SELECT CAST('test plain returns' AS VARCHAR(60)) AS anon_1 in db db_test with error line: 1, column: 37: syntax error, unexpected VARCHAR\n",
      "W0616 11:35:39.135788  2075 tablet_client.cc:175] fail to query tablet\n",
      "W0616 11:35:39.136257  2075 parser.cc:39] line: 1, column: 39: syntax error, unexpected VARCHAR\n",
      "W0616 11:35:39.136291  2075 sql_compiler.cc:319] fail to parse sql SELECT CAST('test unicode returns' AS VARCHAR(60)) AS anon_1 with error line: 1, column: 39: syntax error, unexpected VARCHAR\n",
      "W0616 11:35:39.136309  2075 engine.cc:274] fail to compile sql SELECT CAST('test unicode returns' AS VARCHAR(60)) AS anon_1 in db db_test with error line: 1, column: 39: syntax error, unexpected VARCHAR\n",
      "W0616 11:35:39.136737  2075 tablet_client.cc:175] fail to query tablet\n",
      "I0616 11:35:39.138286  2075 cluster_sdk.cc:134] init ns client with endpoint 127.0.0.1:6527 done\n",
      "W0616 11:35:39.139947  2075 sql_cluster_router.cc:653] fail to create db db_test for error database already exists\n",
      "(sqlalchemy_fedb.fedbapi._fedbapi.DatabaseError) database already exists\n",
      "[SQL: create database db_test;]\n",
      "(Background on this error at: http://sqlalche.me/e/13/4xp6)\n",
      "W0616 11:35:39.140602  2075 sql_cluster_router.cc:607] fail to execute sql drop table t1; for error table is not exist!\n",
      "(sqlalchemy_fedb.fedbapi._fedbapi.DatabaseError) fail to execute sql drop table t1; for error table is not exist!\n",
      "[SQL: drop table t1;]\n",
      "(Background on this error at: http://sqlalche.me/e/13/4xp6)\n",
      "I0616 11:35:39.188928  2079 zk_client.cc:64] node watcher with event type 3, state 3\n",
      "Loaded data with:\n",
      "41214 Recordings\n",
      "248 Engines\n",
      "21 Sensor Measurements\n",
      "3 Operational Settings\n",
      "select t1 head:\n",
      "(100, 196, 19.9988, 0.7, 100.0, 491.19, 607.51, 1490.5, 1259.51, 9.35, 13.61, 342.31, 2324.58, 8772.51, 1.09, 44.91, 322.13, 2388.75, 8105.59, 9.0412, 0.03, 367.0, 2324.0, 100.0, 24.75, 15.0587, 17436, 957146400000)\n",
      "(100, 195, 10.0075, 0.25, 100.0, 489.05, 605.34, 1506.7, 1319.94, 10.52, 15.47, 402.46, 2319.41, 8827.42, 1.27, 45.8, 379.97, 2388.69, 8170.78, 8.4993, 0.03, 372.0, 2319.0, 100.0, 28.83, 17.3886, 17435, 957145800000)\n",
      "(100, 194, 42.0023, 0.84, 100.0, 445.0, 549.22, 1366.91, 1138.24, 3.91, 5.69, 140.95, 2212.41, 8371.33, 1.04, 42.54, 133.73, 2388.59, 8124.65, 9.1617, 0.02, 332.0, 2212.0, 100.0, 10.84, 6.4758, 17434, 957145200000)\n",
      "(100, 193, 20.0021, 0.7016, 100.0, 491.19, 607.35, 1490.19, 1262.25, 9.35, 13.61, 341.07, 2324.49, 8770.34, 1.09, 44.8, 320.63, 2388.64, 8094.67, 9.0335, 0.03, 367.0, 2324.0, 100.0, 24.91, 14.8297, 17433, 957144600000)\n",
      "(100, 192, 10.0007, 0.2512, 100.0, 489.05, 604.99, 1500.12, 1318.4, 10.52, 15.46, 401.87, 2319.37, 8820.83, 1.27, 45.67, 378.75, 2388.6, 8174.16, 8.517, 0.03, 372.0, 2319.0, 100.0, 28.96, 17.4201, 17432, 957144000000)\n",
      "2021-06-16 11:36:13,591:2075(0x7f7033716740):ZOO_INFO@zookeeper_close@2564: Closing zookeeper sessionId=0x1015fd6745a005c to [127.0.0.1:2181]\n",
      "\n"
     ]
    }
   ],
   "source": [
    "!cd demo && python3 import.py"
   ]
  },
  {
   "cell_type": "markdown",
   "id": "f1217305",
   "metadata": {},
   "source": [
    "## 使用数据进行模型训练\n",
    "\n",
    "通过label数据进行模型训练，以下是这次任务使用的代码\n",
    "\n",
    "* 训练脚本代码 https://github.com/4paradigm/DemoApps/blob/main/predict-taxi-trip-duration-nb/demo/train_sql.py \n",
    "* 训练数据 train_FD004.txt\n",
    "\n",
    "整个任务最终会生成一个model，保存为simple_fm.csv。"
   ]
  },
  {
   "cell_type": "code",
   "execution_count": 3,
   "id": "e063ee5e",
   "metadata": {},
   "outputs": [],
   "source": [
    "# !cd demo && python3 train_by_ft.py"
   ]
  },
  {
   "cell_type": "markdown",
   "id": "e843ece0",
   "metadata": {},
   "source": [
    "## 使用训练的模型搭建链接fedb的实时推理http服务\n",
    "\n",
    "基于上一步生成的模型和fedb历史数据，搭建一个实时推理服务，整个推理服务代码参考https://github.com/4paradigm/DemoApps/blob/main/predict-taxi-trip-duration-nb/demo/predict_server.py"
   ]
  },
  {
   "cell_type": "code",
   "execution_count": 4,
   "id": "0cc7e074",
   "metadata": {},
   "outputs": [
    {
     "name": "stdout",
     "output_type": "stream",
     "text": [
      "Mean Abs Error: 48.02\n",
      "1: MAX(recordings.sensor_measurement_4) [0.154]\n",
      "2: MAX(recordings.sensor_measurement_13) [0.105]\n",
      "3: MAX(recordings.sensor_measurement_11) [0.105]\n",
      "4: MAX(recordings.sensor_measurement_15) [0.097]\n",
      "5: MAX(recordings.sensor_measurement_3) [0.063]\n",
      "6: MAX(recordings.sensor_measurement_2) [0.059]\n",
      "7: MAX(recordings.operational_setting_2) [0.058]\n",
      "8: MAX(recordings.sensor_measurement_21) [0.051]\n",
      "9: MAX(recordings.sensor_measurement_8) [0.044]\n",
      "10: MAX(recordings.sensor_measurement_9) [0.043]\n",
      "-----\n",
      "\n"
     ]
    }
   ],
   "source": [
    "# !cd demo && sh start_predict_server.sh # TODO\n",
    "from sklearn.ensemble import RandomForestRegressor\n",
    "from sklearn.model_selection import train_test_split\n",
    "from sklearn.metrics import mean_absolute_error\n",
    "import pandas as pd\n",
    "import utils\n",
    "\n",
    "fm = pd.read_csv('demo/simple_fm.csv', index_col='engine_no')\n",
    "X = fm.copy().fillna(0)\n",
    "y = X.pop('remaining_useful_life')\n",
    "\n",
    "X_train, X_test, y_train, y_test = train_test_split(X, y, random_state=17)\n",
    "\n",
    "# skip baselines\n",
    "\n",
    "reg = RandomForestRegressor(n_estimators=100)\n",
    "reg.fit(X_train, y_train)\n",
    "\n",
    "preds = reg.predict(X_test)\n",
    "scores = mean_absolute_error(preds, y_test)\n",
    "print('Mean Abs Error: {:.2f}'.format(scores))\n",
    "\n",
    "high_imp_feats = utils.feature_importances(X, reg, feats=10)"
   ]
  },
  {
   "cell_type": "markdown",
   "id": "4778edc1",
   "metadata": {},
   "source": [
    "## 通过http请求发送一个推理请求\n",
    "\n"
   ]
  },
  {
   "cell_type": "code",
   "execution_count": 29,
   "id": "e1c2ced0",
   "metadata": {},
   "outputs": [
    {
     "name": "stdout",
     "output_type": "stream",
     "text": [
      "0\n"
     ]
    },
    {
     "data": {
      "text/html": [
       "<div>\n",
       "<style scoped>\n",
       "    .dataframe tbody tr th:only-of-type {\n",
       "        vertical-align: middle;\n",
       "    }\n",
       "\n",
       "    .dataframe tbody tr th {\n",
       "        vertical-align: top;\n",
       "    }\n",
       "\n",
       "    .dataframe thead th {\n",
       "        text-align: right;\n",
       "    }\n",
       "</style>\n",
       "<table border=\"1\" class=\"dataframe\">\n",
       "  <thead>\n",
       "    <tr style=\"text-align: right;\">\n",
       "      <th></th>\n",
       "    </tr>\n",
       "  </thead>\n",
       "  <tbody>\n",
       "  </tbody>\n",
       "</table>\n",
       "</div>"
      ],
      "text/plain": [
       "Empty DataFrame\n",
       "Columns: []\n",
       "Index: []"
      ]
     },
     "execution_count": 29,
     "metadata": {},
     "output_type": "execute_result"
    }
   ],
   "source": [
    "# !cd demo && python3 predict.py # TODO\n",
    "# no real-time data, just calc from fedb\n",
    "calc_sql = \"\"\"            \n",
    "        select recordings.time_in_cycles\n",
    "            from t1 as recordings last join (select time_in_cycles\n",
    "            from t1 tt group by tt.time_in_cycles) as cycles on recordings.time_in_cycles=cycles.time_in_cycles\n",
    "\n",
    ";\n",
    "\"\"\"\n",
    "\n",
    "import sqlalchemy as db\n",
    "engine = db.create_engine('fedb:///db_test?zk=127.0.0.1:2181&zkPath=/fedb')\n",
    "connection = engine.connect()\n",
    "\n",
    "from pandas import DataFrame, Series\n",
    "import numpy as np\n",
    "fm2 = DataFrame()\n",
    "\n",
    "result = connection.execute(calc_sql)\n",
    "print(result.rowcount)\n",
    "\n",
    "# for r in result:\n",
    "# #     print(r)\n",
    "#     fm2 = fm2.append([np.array(r).tolist()])\n",
    "\n",
    "fm2.head()"
   ]
  },
  {
   "cell_type": "code",
   "execution_count": 13,
   "id": "b4b2759d",
   "metadata": {},
   "outputs": [
    {
     "ename": "ValueError",
     "evalue": "at least one array or dtype is required",
     "output_type": "error",
     "traceback": [
      "\u001b[0;31m---------------------------------------------------------------------------\u001b[0m",
      "\u001b[0;31mValueError\u001b[0m                                Traceback (most recent call last)",
      "\u001b[0;32m<ipython-input-13-a64478a27140>\u001b[0m in \u001b[0;36m<module>\u001b[0;34m\u001b[0m\n\u001b[1;32m      8\u001b[0m )\n\u001b[1;32m      9\u001b[0m \u001b[0;34m\u001b[0m\u001b[0m\n\u001b[0;32m---> 10\u001b[0;31m \u001b[0mpreds2\u001b[0m \u001b[0;34m=\u001b[0m \u001b[0mreg\u001b[0m\u001b[0;34m.\u001b[0m\u001b[0mpredict\u001b[0m\u001b[0;34m(\u001b[0m\u001b[0mX\u001b[0m\u001b[0;34m)\u001b[0m\u001b[0;34m\u001b[0m\u001b[0;34m\u001b[0m\u001b[0m\n\u001b[0m\u001b[1;32m     11\u001b[0m \u001b[0mmae\u001b[0m \u001b[0;34m=\u001b[0m \u001b[0mmean_absolute_error\u001b[0m\u001b[0;34m(\u001b[0m\u001b[0mpreds2\u001b[0m\u001b[0;34m,\u001b[0m \u001b[0my\u001b[0m\u001b[0;34m)\u001b[0m\u001b[0;34m\u001b[0m\u001b[0;34m\u001b[0m\u001b[0m\n\u001b[1;32m     12\u001b[0m \u001b[0mprint\u001b[0m\u001b[0;34m(\u001b[0m\u001b[0;34m'Mean Abs Error: {:.2f}'\u001b[0m\u001b[0;34m.\u001b[0m\u001b[0mformat\u001b[0m\u001b[0;34m(\u001b[0m\u001b[0mmae\u001b[0m\u001b[0;34m)\u001b[0m\u001b[0;34m)\u001b[0m\u001b[0;34m\u001b[0m\u001b[0;34m\u001b[0m\u001b[0m\n",
      "\u001b[0;32m/opt/conda/lib/python3.9/site-packages/sklearn/ensemble/_forest.py\u001b[0m in \u001b[0;36mpredict\u001b[0;34m(self, X)\u001b[0m\n\u001b[1;32m    764\u001b[0m         \u001b[0mcheck_is_fitted\u001b[0m\u001b[0;34m(\u001b[0m\u001b[0mself\u001b[0m\u001b[0;34m)\u001b[0m\u001b[0;34m\u001b[0m\u001b[0;34m\u001b[0m\u001b[0m\n\u001b[1;32m    765\u001b[0m         \u001b[0;31m# Check data\u001b[0m\u001b[0;34m\u001b[0m\u001b[0;34m\u001b[0m\u001b[0;34m\u001b[0m\u001b[0m\n\u001b[0;32m--> 766\u001b[0;31m         \u001b[0mX\u001b[0m \u001b[0;34m=\u001b[0m \u001b[0mself\u001b[0m\u001b[0;34m.\u001b[0m\u001b[0m_validate_X_predict\u001b[0m\u001b[0;34m(\u001b[0m\u001b[0mX\u001b[0m\u001b[0;34m)\u001b[0m\u001b[0;34m\u001b[0m\u001b[0;34m\u001b[0m\u001b[0m\n\u001b[0m\u001b[1;32m    767\u001b[0m \u001b[0;34m\u001b[0m\u001b[0m\n\u001b[1;32m    768\u001b[0m         \u001b[0;31m# Assign chunk of trees to jobs\u001b[0m\u001b[0;34m\u001b[0m\u001b[0;34m\u001b[0m\u001b[0;34m\u001b[0m\u001b[0m\n",
      "\u001b[0;32m/opt/conda/lib/python3.9/site-packages/sklearn/ensemble/_forest.py\u001b[0m in \u001b[0;36m_validate_X_predict\u001b[0;34m(self, X)\u001b[0m\n\u001b[1;32m    410\u001b[0m         \u001b[0mcheck_is_fitted\u001b[0m\u001b[0;34m(\u001b[0m\u001b[0mself\u001b[0m\u001b[0;34m)\u001b[0m\u001b[0;34m\u001b[0m\u001b[0;34m\u001b[0m\u001b[0m\n\u001b[1;32m    411\u001b[0m \u001b[0;34m\u001b[0m\u001b[0m\n\u001b[0;32m--> 412\u001b[0;31m         \u001b[0;32mreturn\u001b[0m \u001b[0mself\u001b[0m\u001b[0;34m.\u001b[0m\u001b[0mestimators_\u001b[0m\u001b[0;34m[\u001b[0m\u001b[0;36m0\u001b[0m\u001b[0;34m]\u001b[0m\u001b[0;34m.\u001b[0m\u001b[0m_validate_X_predict\u001b[0m\u001b[0;34m(\u001b[0m\u001b[0mX\u001b[0m\u001b[0;34m,\u001b[0m \u001b[0mcheck_input\u001b[0m\u001b[0;34m=\u001b[0m\u001b[0;32mTrue\u001b[0m\u001b[0;34m)\u001b[0m\u001b[0;34m\u001b[0m\u001b[0;34m\u001b[0m\u001b[0m\n\u001b[0m\u001b[1;32m    413\u001b[0m \u001b[0;34m\u001b[0m\u001b[0m\n\u001b[1;32m    414\u001b[0m     \u001b[0;34m@\u001b[0m\u001b[0mproperty\u001b[0m\u001b[0;34m\u001b[0m\u001b[0;34m\u001b[0m\u001b[0m\n",
      "\u001b[0;32m/opt/conda/lib/python3.9/site-packages/sklearn/tree/_classes.py\u001b[0m in \u001b[0;36m_validate_X_predict\u001b[0;34m(self, X, check_input)\u001b[0m\n\u001b[1;32m    378\u001b[0m         \u001b[0;34m\"\"\"Validate X whenever one tries to predict, apply, predict_proba\"\"\"\u001b[0m\u001b[0;34m\u001b[0m\u001b[0;34m\u001b[0m\u001b[0m\n\u001b[1;32m    379\u001b[0m         \u001b[0;32mif\u001b[0m \u001b[0mcheck_input\u001b[0m\u001b[0;34m:\u001b[0m\u001b[0;34m\u001b[0m\u001b[0;34m\u001b[0m\u001b[0m\n\u001b[0;32m--> 380\u001b[0;31m             \u001b[0mX\u001b[0m \u001b[0;34m=\u001b[0m \u001b[0mcheck_array\u001b[0m\u001b[0;34m(\u001b[0m\u001b[0mX\u001b[0m\u001b[0;34m,\u001b[0m \u001b[0mdtype\u001b[0m\u001b[0;34m=\u001b[0m\u001b[0mDTYPE\u001b[0m\u001b[0;34m,\u001b[0m \u001b[0maccept_sparse\u001b[0m\u001b[0;34m=\u001b[0m\u001b[0;34m\"csr\"\u001b[0m\u001b[0;34m)\u001b[0m\u001b[0;34m\u001b[0m\u001b[0;34m\u001b[0m\u001b[0m\n\u001b[0m\u001b[1;32m    381\u001b[0m             if issparse(X) and (X.indices.dtype != np.intc or\n\u001b[1;32m    382\u001b[0m                                 X.indptr.dtype != np.intc):\n",
      "\u001b[0;32m/opt/conda/lib/python3.9/site-packages/sklearn/utils/validation.py\u001b[0m in \u001b[0;36mcheck_array\u001b[0;34m(array, accept_sparse, accept_large_sparse, dtype, order, copy, force_all_finite, ensure_2d, allow_nd, ensure_min_samples, ensure_min_features, warn_on_dtype, estimator)\u001b[0m\n\u001b[1;32m    473\u001b[0m \u001b[0;34m\u001b[0m\u001b[0m\n\u001b[1;32m    474\u001b[0m         \u001b[0;32mif\u001b[0m \u001b[0mall\u001b[0m\u001b[0;34m(\u001b[0m\u001b[0misinstance\u001b[0m\u001b[0;34m(\u001b[0m\u001b[0mdtype\u001b[0m\u001b[0;34m,\u001b[0m \u001b[0mnp\u001b[0m\u001b[0;34m.\u001b[0m\u001b[0mdtype\u001b[0m\u001b[0;34m)\u001b[0m \u001b[0;32mfor\u001b[0m \u001b[0mdtype\u001b[0m \u001b[0;32min\u001b[0m \u001b[0mdtypes_orig\u001b[0m\u001b[0;34m)\u001b[0m\u001b[0;34m:\u001b[0m\u001b[0;34m\u001b[0m\u001b[0;34m\u001b[0m\u001b[0m\n\u001b[0;32m--> 475\u001b[0;31m             \u001b[0mdtype_orig\u001b[0m \u001b[0;34m=\u001b[0m \u001b[0mnp\u001b[0m\u001b[0;34m.\u001b[0m\u001b[0mresult_type\u001b[0m\u001b[0;34m(\u001b[0m\u001b[0;34m*\u001b[0m\u001b[0mdtypes_orig\u001b[0m\u001b[0;34m)\u001b[0m\u001b[0;34m\u001b[0m\u001b[0;34m\u001b[0m\u001b[0m\n\u001b[0m\u001b[1;32m    476\u001b[0m \u001b[0;34m\u001b[0m\u001b[0m\n\u001b[1;32m    477\u001b[0m     \u001b[0;32mif\u001b[0m \u001b[0mdtype_numeric\u001b[0m\u001b[0;34m:\u001b[0m\u001b[0;34m\u001b[0m\u001b[0;34m\u001b[0m\u001b[0m\n",
      "\u001b[0;32m<__array_function__ internals>\u001b[0m in \u001b[0;36mresult_type\u001b[0;34m(*args, **kwargs)\u001b[0m\n",
      "\u001b[0;31mValueError\u001b[0m: at least one array or dtype is required"
     ]
    }
   ],
   "source": [
    "X = fm2.copy().fillna(0)\n",
    "y = pd.read_csv(\n",
    "    'demo/data/RUL_FD004.txt',\n",
    "    sep=' ',\n",
    "    header=None,\n",
    "    names=['remaining_useful_life'],\n",
    "    index_col=False,\n",
    ")\n",
    "\n",
    "preds2 = reg.predict(X)\n",
    "mae = mean_absolute_error(preds2, y)\n",
    "print('Mean Abs Error: {:.2f}'.format(mae))"
   ]
  },
  {
   "cell_type": "code",
   "execution_count": null,
   "id": "a1b296bf",
   "metadata": {},
   "outputs": [],
   "source": []
  }
 ],
 "metadata": {
  "kernelspec": {
   "display_name": "Python 3",
   "language": "python",
   "name": "python3"
  },
  "language_info": {
   "codemirror_mode": {
    "name": "ipython",
    "version": 3
   },
   "file_extension": ".py",
   "mimetype": "text/x-python",
   "name": "python",
   "nbconvert_exporter": "python",
   "pygments_lexer": "ipython3",
   "version": "3.9.2"
  }
 },
 "nbformat": 4,
 "nbformat_minor": 5
}
