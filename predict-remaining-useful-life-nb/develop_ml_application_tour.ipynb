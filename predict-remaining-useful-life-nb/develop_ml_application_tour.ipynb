{
 "cells": [
  {
   "cell_type": "markdown",
   "id": "687334b0",
   "metadata": {},
   "source": [
    "# 基于机器学习数据库飞速上线AI应用——RUL\n",
    "\n",
    "剩余使用寿命（remaining useful life，RUL），指一个系统正常工作一段时间后,能够正常运转的时间。借助RUL,工程师可以安排维护时间、优化运行效率并避免计划外停机。因此,预测RUL是预测性维护计划中的首要任务。 \n",
    "本次的任务就是开发一个通过机器学习模型进行剩余使用寿命预测的实时智能应用。我们使用NASA提供的[Turbofan Engine Degradation Simulation Data Set](https://ti.arc.nasa.gov/tech/dash/groups/pcoe/prognostic-data-repository/#turbofan)，作为训练集与测试集。\n",
    "\n",
    "整个应用开发是基于[notebook](http://ipython.org/notebook.html)。\n"
   ]
  },
  {
   "cell_type": "markdown",
   "id": "3e7559e1",
   "metadata": {},
   "source": [
    "## 初始化环境\n",
    "整个初始化过程包含安装fedb，以及相关运行环境，初始化脚步可以参考https://github.com/4paradigm/DemoApps/blob/main/predict-remaining-useful-life-nb/demo/init.sh"
   ]
  },
  {
   "cell_type": "code",
   "execution_count": 1,
   "id": "4be401ff",
   "metadata": {},
   "outputs": [
    {
     "name": "stdout",
     "output_type": "stream",
     "text": [
      "ZooKeeper JMX enabled by default\n",
      "Using config: /home/jovyan/work/zookeeper-3.4.14/bin/../conf/zoo.cfg\n",
      "Starting zookeeper ... STARTED\n",
      "Starting tablet ... STARTED\n",
      "Starting nameserver ... STARTED\n",
      "2021-06-18 14:27:23,989:899(0x7f96184eaa00):ZOO_INFO@log_env@753: Client environment:zookeeper.version=zookeeper C client 3.4.14\n",
      "2021-06-18 14:27:23,990:899(0x7f96184eaa00):ZOO_INFO@log_env@757: Client environment:host.name=m7-pce-dev01\n",
      "2021-06-18 14:27:23,990:899(0x7f96184eaa00):ZOO_INFO@log_env@764: Client environment:os.name=Linux\n",
      "2021-06-18 14:27:23,990:899(0x7f96184eaa00):ZOO_INFO@log_env@765: Client environment:os.arch=3.10.0-1127.18.2.el7.x86_64\n",
      "2021-06-18 14:27:23,990:899(0x7f96184eaa00):ZOO_INFO@log_env@766: Client environment:os.version=#1 SMP Sun Jul 26 15:27:06 UTC 2020\n",
      "2021-06-18 14:27:23,990:899(0x7f96184eaa00):ZOO_INFO@log_env@774: Client environment:user.name=(null)\n",
      "2021-06-18 14:27:23,990:899(0x7f96184eaa00):ZOO_INFO@log_env@782: Client environment:user.home=/root\n",
      "2021-06-18 14:27:23,990:899(0x7f96184eaa00):ZOO_INFO@log_env@794: Client environment:user.dir=/home/jovyan/work/fedb-2.2.0\n",
      "2021-06-18 14:27:23,990:899(0x7f96184eaa00):ZOO_INFO@zookeeper_init@827: Initiating client connection, host=127.0.0.1:2181 sessionTimeout=2000 watcher=0x7112e0 sessionId=0 sessionPasswd=<null> context=0x5baa000 flags=0\n",
      "2021-06-18 14:27:23,991:899(0x7f961748a700):ZOO_INFO@check_events@1764: initiated connection to server [127.0.0.1:2181]\n",
      "2021-06-18 14:27:24,008:899(0x7f961748a700):ZOO_INFO@check_events@1811: session establishment complete on server [127.0.0.1:2181], sessionId=0x1016b1bdd2e0002, negotiated timeout=4000\n",
      "WARNING: Logging before InitGoogleLogging() is written to STDERR\n",
      "I0618 14:27:24.008674   903 zk_client.cc:586] zookeeper event with type -1, state 3, path \n",
      "I0618 14:27:24.008963   903 zk_client.cc:601] connect success\n",
      "I0618 14:27:24.009052   899 cluster_sdk.cc:84] init zk client with zk cluster 127.0.0.1:2181 , zk path /fedb,session timeout 2000 and session id 1\n",
      "I0618 14:27:24.009934   899 cluster_sdk.cc:254] no tables in db\n",
      "I0618 14:27:24.019898   899 client_manager.cc:473] add client. name 127.0.0.1:9527, endpoint \n",
      "I0618 14:27:24.019966   899 cluster_sdk.cc:102] start to watch table notify\n",
      "I0618 14:27:24.024273   899 cluster_sdk.cc:134] init ns client with endpoint 127.0.0.1:6527 done\n",
      "Empty set\n"
     ]
    }
   ],
   "source": [
    "!cd demo && sh init.sh"
   ]
  },
  {
   "cell_type": "markdown",
   "id": "9f31d07f",
   "metadata": {},
   "source": [
    "## 导入历史数据到fedb\n",
    "\n",
    "使用fedb进行时序特征计算是需要历史数据的，所以我们将历史数据导入到fedb，以便实时推理可以使用历史数据进行特征推理，导入代码可以参考https://github.com/4paradigm/DemoApps/blob/main/predict-taxi-trip-duration-nb/demo/import.py 。\n",
    "\n",
    "这里使用`test_FD004.txt`作为历史数据，有多个engine多次cycle的检测数据。"
   ]
  },
  {
   "cell_type": "code",
   "execution_count": 2,
   "id": "7a21f6c7",
   "metadata": {},
   "outputs": [
    {
     "name": "stdout",
     "output_type": "stream",
     "text": [
      "2021-06-18 14:27:25,305:914(0x7f3792762740):ZOO_INFO@log_env@753: Client environment:zookeeper.version=zookeeper C client 3.4.14\n",
      "2021-06-18 14:27:25,305:914(0x7f3792762740):ZOO_INFO@log_env@757: Client environment:host.name=m7-pce-dev01\n",
      "2021-06-18 14:27:25,305:914(0x7f3792762740):ZOO_INFO@log_env@764: Client environment:os.name=Linux\n",
      "2021-06-18 14:27:25,305:914(0x7f3792762740):ZOO_INFO@log_env@765: Client environment:os.arch=3.10.0-1127.18.2.el7.x86_64\n",
      "2021-06-18 14:27:25,305:914(0x7f3792762740):ZOO_INFO@log_env@766: Client environment:os.version=#1 SMP Sun Jul 26 15:27:06 UTC 2020\n",
      "2021-06-18 14:27:25,305:914(0x7f3792762740):ZOO_INFO@log_env@774: Client environment:user.name=(null)\n",
      "2021-06-18 14:27:25,305:914(0x7f3792762740):ZOO_INFO@log_env@782: Client environment:user.home=/root\n",
      "2021-06-18 14:27:25,305:914(0x7f3792762740):ZOO_INFO@log_env@794: Client environment:user.dir=/home/jovyan/work/rul/demo\n",
      "2021-06-18 14:27:25,305:914(0x7f3792762740):ZOO_INFO@zookeeper_init@827: Initiating client connection, host=127.0.0.1:2181 sessionTimeout=2000 watcher=0x7f378d60d070 sessionId=0 sessionPasswd=<null> context=0x7f37876fe010 flags=0\n",
      "2021-06-18 14:27:25,306:914(0x7f37876fd700):ZOO_INFO@check_events@1764: initiated connection to server [127.0.0.1:2181]\n",
      "2021-06-18 14:27:25,324:914(0x7f37876fd700):ZOO_INFO@check_events@1811: session establishment complete on server [127.0.0.1:2181], sessionId=0x1016b1bdd2e0003, negotiated timeout=4000\n",
      "WARNING: Logging before InitGoogleLogging() is written to STDERR\n",
      "I0618 14:27:25.325145   918 zk_client.cc:586] zookeeper event with type -1, state 3, path \n",
      "I0618 14:27:25.325325   918 zk_client.cc:601] connect success\n",
      "I0618 14:27:25.325410   914 cluster_sdk.cc:84] init zk client with zk cluster 127.0.0.1:2181 , zk path /fedb,session timeout 2000 and session id 1\n",
      "I0618 14:27:25.326098   914 cluster_sdk.cc:254] no tables in db\n",
      "I0618 14:27:25.333016   914 client_manager.cc:473] add client. name 127.0.0.1:9527, endpoint \n",
      "I0618 14:27:25.333070   914 cluster_sdk.cc:102] start to watch table notify\n",
      "W0618 14:27:25.334467   914 parser.cc:39] line: 1, column: 37: syntax error, unexpected VARCHAR\n",
      "W0618 14:27:25.334502   914 sql_compiler.cc:319] fail to parse sql SELECT CAST('test plain returns' AS VARCHAR(60)) AS anon_1 with error line: 1, column: 37: syntax error, unexpected VARCHAR\n",
      "W0618 14:27:25.334520   914 engine.cc:274] fail to compile sql SELECT CAST('test plain returns' AS VARCHAR(60)) AS anon_1 in db db_test with error line: 1, column: 37: syntax error, unexpected VARCHAR\n",
      "W0618 14:27:25.338567   914 tablet_client.cc:175] fail to query tablet\n",
      "W0618 14:27:25.339015   914 parser.cc:39] line: 1, column: 39: syntax error, unexpected VARCHAR\n",
      "W0618 14:27:25.339047   914 sql_compiler.cc:319] fail to parse sql SELECT CAST('test unicode returns' AS VARCHAR(60)) AS anon_1 with error line: 1, column: 39: syntax error, unexpected VARCHAR\n",
      "W0618 14:27:25.339063   914 engine.cc:274] fail to compile sql SELECT CAST('test unicode returns' AS VARCHAR(60)) AS anon_1 in db db_test with error line: 1, column: 39: syntax error, unexpected VARCHAR\n",
      "W0618 14:27:25.339594   914 tablet_client.cc:175] fail to query tablet\n",
      "I0618 14:27:25.342514   914 cluster_sdk.cc:134] init ns client with endpoint 127.0.0.1:6527 done\n",
      "W0618 14:27:25.367097   914 sql_cluster_router.cc:607] fail to execute sql drop table rul_table; for error table is not exist!\n",
      "(sqlalchemy_fedb.fedbapi._fedbapi.DatabaseError) fail to execute sql drop table rul_table; for error table is not exist!\n",
      "[SQL: drop table rul_table;]\n",
      "(Background on this error at: http://sqlalche.me/e/13/4xp6)\n",
      "I0618 14:27:25.415894   918 zk_client.cc:64] node watcher with event type 3, state 3\n",
      "Loaded data with:\n",
      "41214 Recordings\n",
      "248 Engines\n",
      "21 Sensor Measurements\n",
      "3 Operational Settings\n",
      "peek rul_table:\n",
      "(1, 101, 35.0033, 0.84, 100.0, 449.44, 554.83, 1356.69, 1116.59, 5.48, 7.96, 193.11, 2222.77, 8334.74, 1.01, 41.52, 181.89, 2387.87, 8060.65, 9.2879, 0.02, 332.0, 2223.0, 100.0, 14.88, 8.8377, 100, 946744800000)\n",
      "(1, 100, 19.9984, 0.7, 100.0, 491.19, 606.71, 1471.11, 1231.48, 9.35, 13.59, 332.62, 2323.66, 8710.3, 1.07, 43.93, 313.12, 2387.82, 8046.16, 9.1943, 0.02, 362.0, 2324.0, 100.0, 24.37, 14.6934, 99, 946744200000)\n",
      "(1, 99, 10.0027, 0.25, 100.0, 489.05, 604.59, 1490.74, 1294.83, 10.52, 15.45, 393.58, 2318.68, 8765.6, 1.26, 45.01, 370.1, 2387.88, 8128.22, 8.6353, 0.03, 368.0, 2319.0, 100.0, 28.67, 17.1452, 98, 946743600000)\n",
      "(1, 98, 35.0052, 0.8401, 100.0, 449.44, 555.14, 1359.58, 1112.19, 5.48, 7.96, 193.09, 2222.72, 8332.24, 1.01, 41.41, 181.51, 2387.84, 8057.68, 9.3161, 0.02, 330.0, 2223.0, 100.0, 14.95, 8.9318, 97, 946743000000)\n",
      "(1, 97, 0.0009, 0.0013, 100.0, 518.67, 641.78, 1578.75, 1395.54, 14.62, 21.57, 552.9, 2387.94, 9042.66, 1.3, 46.98, 520.24, 2387.92, 8128.59, 8.3829, 0.03, 393.0, 2388.0, 100.0, 38.82, 23.4259, 96, 946742400000)\n",
      "2021-06-18 14:27:26,448:914(0x7f3792762740):ZOO_INFO@zookeeper_close@2564: Closing zookeeper sessionId=0x1016b1bdd2e0003 to [127.0.0.1:2181]\n",
      "\n"
     ]
    }
   ],
   "source": [
    "!cd demo && python3 import.py"
   ]
  },
  {
   "cell_type": "markdown",
   "id": "f1217305",
   "metadata": {},
   "source": [
    "## 生成训练用的特征矩阵\n",
    "模型训练需要训练数据，以下是生成使用的的代码\n",
    "\n",
    "* 训练特征矩阵生成脚本代码 https://github.com/4paradigm/DemoApps/blob/main/predict-remaining-useful-life-nb/demo/gene_train_by_spark.py\n",
    "* 训练数据使用`train_FD004.txt`，多engine不同cycle的检测数据。\n",
    "\n",
    "整个任务最终会生成训练用的特征矩阵，保存为train_fm.csv。"
   ]
  },
  {
   "cell_type": "markdown",
   "id": "2e32dde8",
   "metadata": {},
   "source": [
    "### 特征详解\n",
    "特征可分为两类，一类是一个engine的聚合特征，用sql可以表达为\n",
    "```\n",
    "select engine_no, MAX(operational_setting_1),... from d2 group by engine_no;\n",
    "```\n",
    "二类是相同time_in_cycles的所有engine的共同聚合特征，用sql可以表达为\n",
    "```\n",
    "select time_in_cycles, MAX(operational_setting_1) as rcm_operational_setting_1, ... from d2 group by time_in_cycles;\"\"\")\n",
    "\n",
    "```\n"
   ]
  },
  {
   "cell_type": "code",
   "execution_count": 3,
   "id": "f321fb05",
   "metadata": {},
   "outputs": [
    {
     "name": "stdout",
     "output_type": "stream",
     "text": [
      "21/06/18 14:27:30 WARN NativeCodeLoader: Unable to load native-hadoop library for your platform... using builtin-java classes where applicable\n",
      "Using Spark's default log4j profile: org/apache/spark/log4j-defaults.properties\n",
      "Setting default log level to \"WARN\".\n",
      "To adjust logging level use sc.setLogLevel(newLevel). For SparkR, use setLogLevel(newLevel).\n",
      "21/06/18 14:27:31 WARN Utils: Service 'SparkUI' could not bind on port 4040. Attempting port 4041.\n",
      "Loaded data with:\n",
      "61249 Recordings\n",
      "249 Engines\n",
      "21 Sensor Measurements\n",
      "3 Operational Settings\n",
      "Elapsed: 00:00 | Remaining: 00:00 | Progress: 100%|████████| engine_no: 249/249 \n",
      "spark:\n",
      "21/06/18 14:27:49 WARN package: Truncated the string representation of a plan since it was too large. This behavior can be adjusted by setting 'spark.sql.debug.maxToStringFields'.\n",
      "WARNING: Logging before InitGoogleLogging() is written to STDERR\n",
      "I0618 14:27:53.574008  1117 sql_compiler.cc:61] keep ir length: 68353\n",
      "    PROJECT(type=WindowAggregation)\n",
      "      +-WINDOW(partition_keys=(engine_no), orders=(record_time) ASC, range=(record_time, UNBOUND, 0))\n",
      "      PROJECT(type=WindowAggregation, NEED_APPEND_INPUT)\n",
      "        +-WINDOW(partition_keys=(time_in_cycles), orders=(record_time) ASC, range=(record_time, UNBOUND, 0))\n",
      "       engine_no  ...  max(sensor_measurement_9)over w2                         \n",
      "0             26  ...                           9059.71\n",
      "1             26  ...                           9063.93\n",
      "2             26  ...                           9060.27\n",
      "3             26  ...                           9064.78\n",
      "4             26  ...                           9060.33\n",
      "...          ...  ...                               ...\n",
      "25144        211  ...                           9074.25\n",
      "25145        211  ...                           9079.54\n",
      "25146        211  ...                           9077.52\n",
      "25147        211  ...                           9081.29\n",
      "25148        211  ...                           9068.12\n",
      "\n",
      "[25149 rows x 49 columns]\n",
      "     engine_no  ...  max(sensor_measurement_9)over w2\n",
      "0            1  ...                           8337.79\n",
      "1            2  ...                           8341.37\n",
      "2            3  ...                           8783.51\n",
      "3            4  ...                           8783.51\n",
      "4            5  ...                           8783.51\n",
      "..         ...  ...                               ...\n",
      "244        245  ...                           9068.12\n",
      "245        246  ...                           9068.12\n",
      "246        247  ...                           9068.12\n",
      "247        248  ...                           9068.12\n",
      "248        249  ...                           9068.12\n",
      "\n",
      "[249 rows x 49 columns]\n",
      "save the feature matrix done\n"
     ]
    }
   ],
   "source": [
    "!cd demo && sh train_fm.sh"
   ]
  },
  {
   "cell_type": "markdown",
   "id": "e843ece0",
   "metadata": {},
   "source": [
    "## 使用训练的模型搭建链接fedb的实时推理http服务\n",
    "\n",
    "基于上一步生成的训练用特征矩阵，使用`RandomForestRegressor`进行训练。\n",
    "得到的训练模型，再结合fedb中的历史数据，搭建一个实时推理服务，整个推理服务代码参考https://github.com/4paradigm/DemoApps/blob/main/predict-remaining-useful-life-nb/demo/predict_server.py 。"
   ]
  },
  {
   "cell_type": "code",
   "execution_count": 2,
   "id": "0cc7e074",
   "metadata": {},
   "outputs": [
    {
     "name": "stdout",
     "output_type": "stream",
     "text": [
      "start predict server\n",
      "root      1591     1 99 14:36 ?        00:00:05 python3 predict_server.py\n",
      "root      1634  1575  0 14:36 ?        00:00:00 /bin/sh -c ps -ef | grep predict && kill -9 4791\n",
      "root      1636  1634  0 14:36 ?        00:00:00 grep predict\n",
      "\n"
     ]
    }
   ],
   "source": [
    "!cd demo && sh start_predict_server.sh\n",
    "import os\n",
    "output = os.popen('ps -ef | grep predict && kill -9 4791')\n",
    "# output = os.popen('cat /tmp/p.log')\n",
    "print(output.read())\n",
    "# !cd demo && python3 predict_server.py"
   ]
  },
  {
   "cell_type": "markdown",
   "id": "4778edc1",
   "metadata": {},
   "source": [
    "## 通过http请求发送一个推理请求"
   ]
  },
  {
   "cell_type": "code",
   "execution_count": 3,
   "id": "3aa25374",
   "metadata": {},
   "outputs": [
    {
     "name": "stdout",
     "output_type": "stream",
     "text": [
      "----------------ins---------------\r\n",
      "        1      2      3       4    5      6       7        8        9        10    11     12      13     14      15     16       17       18       19     20     21     22       23       24       25    26     27      28   29     30      31       32       33      34    35     36      37     38      39     40       41       42       43     44     45      46       47       48\r\n",
      "0  42.0075  0.842  100.0  518.67  1.3  47.28  520.24  2388.03  8128.59  10.9106  0.03  393.0  2388.0  100.0  642.35  39.06  23.4425  1584.67  1404.36  14.62  21.57  552.9  2387.94  9042.66  35.0033  0.84  100.0  518.67  1.3  47.14  519.09  2387.42  8116.94  8.4244  0.03  392.0  2388.0  100.0  642.02  38.75  23.4425  1576.87  1400.86  14.62  21.57  551.79  2387.35  9032.46\r\n",
      "---------------predict rul -------------\r\n",
      "[240.08]\r\n",
      "Congraduation! You have finished the task.\r\n",
      "Your Key:b'o9NgmB0PK/cb2aG1ByKPMCXh/1TS4C03f/MrvTXQvSFY+9B1xMOvvgwkfEY='\r\n"
     ]
    }
   ],
   "source": [
    "!cd demo && python3 predict.py"
   ]
  },
  {
   "cell_type": "code",
   "execution_count": null,
   "id": "aad6f067",
   "metadata": {},
   "outputs": [],
   "source": []
  }
 ],
 "metadata": {
  "kernelspec": {
   "display_name": "Python 3",
   "language": "python",
   "name": "python3"
  },
  "language_info": {
   "codemirror_mode": {
    "name": "ipython",
    "version": 3
   },
   "file_extension": ".py",
   "mimetype": "text/x-python",
   "name": "python",
   "nbconvert_exporter": "python",
   "pygments_lexer": "ipython3",
   "version": "3.9.2"
  }
 },
 "nbformat": 4,
 "nbformat_minor": 5
}
